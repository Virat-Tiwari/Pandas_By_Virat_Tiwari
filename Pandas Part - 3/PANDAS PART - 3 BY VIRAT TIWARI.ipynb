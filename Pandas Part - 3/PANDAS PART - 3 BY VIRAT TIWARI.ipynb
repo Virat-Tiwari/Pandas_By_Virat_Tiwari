{
 "cells": [
  {
   "cell_type": "code",
   "execution_count": 1,
   "id": "e5fb4eb1-eae9-4940-8477-baf997c6b4b3",
   "metadata": {},
   "outputs": [],
   "source": [
    "import pandas as pd"
   ]
  },
  {
   "cell_type": "code",
   "execution_count": 2,
   "id": "22cb8df6-f083-4818-95f3-79b7c8edf9f9",
   "metadata": {},
   "outputs": [],
   "source": [
    "df=pd.read_csv(\"https://raw.githubusercontent.com/datasciencedojo/datasets/master/titanic.csv\")"
   ]
  },
  {
   "cell_type": "code",
   "execution_count": 4,
   "id": "1a5f0645-9fb3-4c21-98d4-ca774a89603c",
   "metadata": {},
   "outputs": [
    {
     "data": {
      "text/plain": [
       "Index(['PassengerId', 'Survived', 'Pclass', 'Name', 'Sex', 'Age', 'SibSp',\n",
       "       'Parch', 'Ticket', 'Fare', 'Cabin', 'Embarked'],\n",
       "      dtype='object')"
      ]
     },
     "execution_count": 4,
     "metadata": {},
     "output_type": "execute_result"
    }
   ],
   "source": [
    "df.columns"
   ]
  },
  {
   "cell_type": "code",
   "execution_count": 9,
   "id": "1b1ca1f3-16a2-45fd-a5ff-7c49b0cd9455",
   "metadata": {},
   "outputs": [],
   "source": [
    "s=df[\"Name\"][0:10]"
   ]
  },
  {
   "cell_type": "code",
   "execution_count": 19,
   "id": "14a3ae6a-a717-47f9-a770-dd674c8e55f9",
   "metadata": {},
   "outputs": [
    {
     "data": {
      "text/plain": [
       "0                              Braund, Mr. Owen Harris\n",
       "1    Cumings, Mrs. John Bradley (Florence Briggs Th...\n",
       "2                               Heikkinen, Miss. Laina\n",
       "3         Futrelle, Mrs. Jacques Heath (Lily May Peel)\n",
       "4                             Allen, Mr. William Henry\n",
       "5                                     Moran, Mr. James\n",
       "6                              McCarthy, Mr. Timothy J\n",
       "7                       Palsson, Master. Gosta Leonard\n",
       "8    Johnson, Mrs. Oscar W (Elisabeth Vilhelmina Berg)\n",
       "9                  Nasser, Mrs. Nicholas (Adele Achem)\n",
       "Name: Name, dtype: object"
      ]
     },
     "execution_count": 19,
     "metadata": {},
     "output_type": "execute_result"
    }
   ],
   "source": [
    "s"
   ]
  },
  {
   "cell_type": "code",
   "execution_count": 20,
   "id": "421b95b4-dd70-42f1-881c-9fa4ffc8ec2b",
   "metadata": {},
   "outputs": [
    {
     "data": {
      "text/plain": [
       "10"
      ]
     },
     "execution_count": 20,
     "metadata": {},
     "output_type": "execute_result"
    }
   ],
   "source": [
    "len(s)"
   ]
  },
  {
   "cell_type": "code",
   "execution_count": 21,
   "id": "dc7a0cad-5188-47fb-92f1-25f5565c25f8",
   "metadata": {},
   "outputs": [
    {
     "data": {
      "text/plain": [
       "pandas.core.series.Series"
      ]
     },
     "execution_count": 21,
     "metadata": {},
     "output_type": "execute_result"
    }
   ],
   "source": [
    "type(s)"
   ]
  },
  {
   "cell_type": "code",
   "execution_count": 27,
   "id": "5541d080-46ff-4005-b1c6-fe4d08b3b52d",
   "metadata": {},
   "outputs": [],
   "source": [
    "l=[\"Virat\",\"b\",\"c\",\"d\",\"e\",\"f\",\"g\",\"h\",\"i\",\"j\"]"
   ]
  },
  {
   "cell_type": "code",
   "execution_count": 31,
   "id": "88052118-ab1f-498a-8203-9a165cfea453",
   "metadata": {},
   "outputs": [],
   "source": [
    "s1=pd.Series(list(s),index=l)"
   ]
  },
  {
   "cell_type": "code",
   "execution_count": 32,
   "id": "a9dac285-0b66-451c-9b61-b74023cabc0a",
   "metadata": {},
   "outputs": [
    {
     "data": {
      "text/plain": [
       "'Braund, Mr. Owen Harris'"
      ]
     },
     "execution_count": 32,
     "metadata": {},
     "output_type": "execute_result"
    }
   ],
   "source": [
    "s[0]"
   ]
  },
  {
   "cell_type": "code",
   "execution_count": 33,
   "id": "90c707b7-1c13-4518-99b1-fb8a15da4359",
   "metadata": {},
   "outputs": [
    {
     "data": {
      "text/plain": [
       "'Braund, Mr. Owen Harris'"
      ]
     },
     "execution_count": 33,
     "metadata": {},
     "output_type": "execute_result"
    }
   ],
   "source": [
    "s1[0]"
   ]
  },
  {
   "cell_type": "code",
   "execution_count": 35,
   "id": "786600c7-880f-43c5-86ee-2368e7031a45",
   "metadata": {},
   "outputs": [
    {
     "data": {
      "text/plain": [
       "'Braund, Mr. Owen Harris'"
      ]
     },
     "execution_count": 35,
     "metadata": {},
     "output_type": "execute_result"
    }
   ],
   "source": [
    "s1[\"Virat\"]"
   ]
  },
  {
   "cell_type": "code",
   "execution_count": 41,
   "id": "48734d5d-32ea-4d73-92dc-518c6975f5a1",
   "metadata": {},
   "outputs": [
    {
     "name": "stderr",
     "output_type": "stream",
     "text": [
      "/tmp/ipykernel_118/2552242485.py:1: FutureWarning: The series.append method is deprecated and will be removed from pandas in a future version. Use pandas.concat instead.\n",
      "  s2=s1.append(s)\n"
     ]
    }
   ],
   "source": [
    "s2=s1.append(s)"
   ]
  },
  {
   "cell_type": "code",
   "execution_count": 43,
   "id": "7bda7790-6d91-4e8f-9ad7-84e5289ab37a",
   "metadata": {},
   "outputs": [
    {
     "data": {
      "text/plain": [
       "Virat                              Braund, Mr. Owen Harris\n",
       "b        Cumings, Mrs. John Bradley (Florence Briggs Th...\n",
       "c                                   Heikkinen, Miss. Laina\n",
       "d             Futrelle, Mrs. Jacques Heath (Lily May Peel)\n",
       "e                                 Allen, Mr. William Henry\n",
       "f                                         Moran, Mr. James\n",
       "g                                  McCarthy, Mr. Timothy J\n",
       "h                           Palsson, Master. Gosta Leonard\n",
       "i        Johnson, Mrs. Oscar W (Elisabeth Vilhelmina Berg)\n",
       "j                      Nasser, Mrs. Nicholas (Adele Achem)\n",
       "0                                  Braund, Mr. Owen Harris\n",
       "1        Cumings, Mrs. John Bradley (Florence Briggs Th...\n",
       "2                                   Heikkinen, Miss. Laina\n",
       "3             Futrelle, Mrs. Jacques Heath (Lily May Peel)\n",
       "4                                 Allen, Mr. William Henry\n",
       "5                                         Moran, Mr. James\n",
       "6                                  McCarthy, Mr. Timothy J\n",
       "7                           Palsson, Master. Gosta Leonard\n",
       "8        Johnson, Mrs. Oscar W (Elisabeth Vilhelmina Berg)\n",
       "9                      Nasser, Mrs. Nicholas (Adele Achem)\n",
       "dtype: object"
      ]
     },
     "execution_count": 43,
     "metadata": {},
     "output_type": "execute_result"
    }
   ],
   "source": [
    "s2"
   ]
  },
  {
   "cell_type": "code",
   "execution_count": 42,
   "id": "e8de5eed-255c-4453-a8da-607126becc21",
   "metadata": {},
   "outputs": [
    {
     "data": {
      "text/plain": [
       "'Braund, Mr. Owen Harris'"
      ]
     },
     "execution_count": 42,
     "metadata": {},
     "output_type": "execute_result"
    }
   ],
   "source": [
    "s2[0]"
   ]
  },
  {
   "cell_type": "code",
   "execution_count": 45,
   "id": "92694a83-f5d1-465e-8c38-0cdf5abc39d8",
   "metadata": {},
   "outputs": [
    {
     "data": {
      "text/plain": [
       "'Allen, Mr. William Henry'"
      ]
     },
     "execution_count": 45,
     "metadata": {},
     "output_type": "execute_result"
    }
   ],
   "source": [
    "s2[4]"
   ]
  },
  {
   "cell_type": "code",
   "execution_count": 47,
   "id": "8828e625-9abb-4e30-a705-f36ff186c9d6",
   "metadata": {},
   "outputs": [],
   "source": [
    "s4=pd.Series([3,2,5,6,4],index=[1,2,3,4,5])"
   ]
  },
  {
   "cell_type": "code",
   "execution_count": 48,
   "id": "66b14f0a-1050-4de3-9f07-8482822c1dba",
   "metadata": {},
   "outputs": [
    {
     "data": {
      "text/plain": [
       "1    3\n",
       "2    2\n",
       "3    5\n",
       "4    6\n",
       "5    4\n",
       "dtype: int64"
      ]
     },
     "execution_count": 48,
     "metadata": {},
     "output_type": "execute_result"
    }
   ],
   "source": [
    "s4"
   ]
  },
  {
   "cell_type": "code",
   "execution_count": 50,
   "id": "6bb4e8c1-11e8-468b-beaa-3897fd624084",
   "metadata": {},
   "outputs": [],
   "source": [
    "s5=pd.Series([153,205,524,649,404],index=[10,20,30,40,50])"
   ]
  },
  {
   "cell_type": "code",
   "execution_count": 54,
   "id": "f441a7c0-5f5c-461b-be3e-53266e4ebaba",
   "metadata": {},
   "outputs": [
    {
     "name": "stderr",
     "output_type": "stream",
     "text": [
      "/tmp/ipykernel_118/884104408.py:1: FutureWarning: The series.append method is deprecated and will be removed from pandas in a future version. Use pandas.concat instead.\n",
      "  s6=s4.append(s5)\n"
     ]
    }
   ],
   "source": [
    "s6=s4.append(s5)"
   ]
  },
  {
   "cell_type": "code",
   "execution_count": 55,
   "id": "413192e2-55ef-4f76-87ce-d7185f0d3090",
   "metadata": {},
   "outputs": [
    {
     "data": {
      "text/plain": [
       "10    153\n",
       "20    205\n",
       "30    524\n",
       "40    649\n",
       "50    404\n",
       "dtype: int64"
      ]
     },
     "execution_count": 55,
     "metadata": {},
     "output_type": "execute_result"
    }
   ],
   "source": [
    "s4"
   ]
  },
  {
   "cell_type": "code",
   "execution_count": 58,
   "id": "8cb84e75-5c2a-437e-be23-1c915c60ce99",
   "metadata": {},
   "outputs": [
    {
     "data": {
      "text/plain": [
       "10    153\n",
       "20    205\n",
       "30    524\n",
       "40    649\n",
       "50    404\n",
       "10    153\n",
       "20    205\n",
       "30    524\n",
       "40    649\n",
       "50    404\n",
       "dtype: int64"
      ]
     },
     "execution_count": 58,
     "metadata": {},
     "output_type": "execute_result"
    }
   ],
   "source": [
    "s6"
   ]
  },
  {
   "cell_type": "code",
   "execution_count": 60,
   "id": "d46a3bc6-36d6-4b91-8f93-f405236e831c",
   "metadata": {},
   "outputs": [
    {
     "data": {
      "text/plain": [
       "40    649\n",
       "40    649\n",
       "dtype: int64"
      ]
     },
     "execution_count": 60,
     "metadata": {},
     "output_type": "execute_result"
    }
   ],
   "source": [
    "s6[40]"
   ]
  },
  {
   "cell_type": "code",
   "execution_count": 61,
   "id": "d7adf21a-8daa-4058-a2cf-f4744ef7811b",
   "metadata": {},
   "outputs": [
    {
     "name": "stderr",
     "output_type": "stream",
     "text": [
      "/tmp/ipykernel_118/2671872114.py:1: FutureWarning: The behavior of `series[i:j]` with an integer-dtype index is deprecated. In a future version, this will be treated as *label-based* indexing, consistent with e.g. `series[i]` lookups. To retain the old behavior, use `series.iloc[i:j]`. To get the future behavior, use `series.loc[i:j]`.\n",
      "  s6[0:5]\n"
     ]
    },
    {
     "data": {
      "text/plain": [
       "10    153\n",
       "20    205\n",
       "30    524\n",
       "40    649\n",
       "50    404\n",
       "dtype: int64"
      ]
     },
     "execution_count": 61,
     "metadata": {},
     "output_type": "execute_result"
    }
   ],
   "source": [
    "s6[0:5]"
   ]
  },
  {
   "cell_type": "code",
   "execution_count": 62,
   "id": "1d30e687-81a2-4902-8040-2b0a64db4ce1",
   "metadata": {},
   "outputs": [
    {
     "data": {
      "text/plain": [
       "10    153\n",
       "20    205\n",
       "30    524\n",
       "40    649\n",
       "50    404\n",
       "dtype: int64"
      ]
     },
     "execution_count": 62,
     "metadata": {},
     "output_type": "execute_result"
    }
   ],
   "source": [
    "s4"
   ]
  },
  {
   "cell_type": "code",
   "execution_count": 63,
   "id": "fc530849-7e5a-41e0-85b4-38869cb2ea68",
   "metadata": {},
   "outputs": [
    {
     "data": {
      "text/plain": [
       "10    153\n",
       "20    205\n",
       "30    524\n",
       "40    649\n",
       "50    404\n",
       "dtype: int64"
      ]
     },
     "execution_count": 63,
     "metadata": {},
     "output_type": "execute_result"
    }
   ],
   "source": [
    "s5"
   ]
  },
  {
   "cell_type": "code",
   "execution_count": 68,
   "id": "a0f0ba15-5b09-4d97-a9d7-99510613e523",
   "metadata": {},
   "outputs": [
    {
     "data": {
      "text/plain": [
       "Virat    NaN\n",
       "b        NaN\n",
       "c        NaN\n",
       "d        NaN\n",
       "e        NaN\n",
       "f        NaN\n",
       "g        NaN\n",
       "h        NaN\n",
       "i        NaN\n",
       "j        NaN\n",
       "10       NaN\n",
       "20       NaN\n",
       "30       NaN\n",
       "40       NaN\n",
       "50       NaN\n",
       "dtype: object"
      ]
     },
     "execution_count": 68,
     "metadata": {},
     "output_type": "execute_result"
    }
   ],
   "source": [
    "s1*s5"
   ]
  },
  {
   "cell_type": "code",
   "execution_count": 69,
   "id": "c78e53e6-775b-4ef0-8ae5-b684370552af",
   "metadata": {},
   "outputs": [
    {
     "data": {
      "text/plain": [
       "Virat    NaN\n",
       "b        NaN\n",
       "c        NaN\n",
       "d        NaN\n",
       "e        NaN\n",
       "f        NaN\n",
       "g        NaN\n",
       "h        NaN\n",
       "i        NaN\n",
       "j        NaN\n",
       "10       NaN\n",
       "20       NaN\n",
       "30       NaN\n",
       "40       NaN\n",
       "50       NaN\n",
       "dtype: object"
      ]
     },
     "execution_count": 69,
     "metadata": {},
     "output_type": "execute_result"
    }
   ],
   "source": [
    "s1+s5"
   ]
  },
  {
   "cell_type": "markdown",
   "id": "92b85dd7-97b7-43e0-ba43-4ecc2439f614",
   "metadata": {},
   "source": [
    "THANK YOU SO MUCH !!\n",
    "\n",
    "VIRAT TIWARI :)"
   ]
  }
 ],
 "metadata": {
  "kernelspec": {
   "display_name": "Python 3 (ipykernel)",
   "language": "python",
   "name": "python3"
  },
  "language_info": {
   "codemirror_mode": {
    "name": "ipython",
    "version": 3
   },
   "file_extension": ".py",
   "mimetype": "text/x-python",
   "name": "python",
   "nbconvert_exporter": "python",
   "pygments_lexer": "ipython3",
   "version": "3.10.8"
  }
 },
 "nbformat": 4,
 "nbformat_minor": 5
}
